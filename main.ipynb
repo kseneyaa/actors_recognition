{
 "cells": [
  {
   "cell_type": "markdown",
   "id": "civil-manual",
   "metadata": {},
   "source": [
    "### Important to install all requirements from txt file req.txt"
   ]
  },
  {
   "cell_type": "code",
   "execution_count": 1,
   "id": "capable-ultimate",
   "metadata": {},
   "outputs": [],
   "source": [
    "import dlib\n",
    "import face_recognition\n",
    "import os"
   ]
  },
  {
   "cell_type": "code",
   "execution_count": 2,
   "id": "judicial-jonathan",
   "metadata": {},
   "outputs": [
    {
     "data": {
      "text/plain": [
       "'19.22.0'"
      ]
     },
     "execution_count": 2,
     "metadata": {},
     "output_type": "execute_result"
    }
   ],
   "source": [
    "dlib.__version__"
   ]
  },
  {
   "cell_type": "markdown",
   "id": "neutral-toilet",
   "metadata": {},
   "source": [
    "### Creating our facial embeddings"
   ]
  },
  {
   "cell_type": "code",
   "execution_count": 3,
   "id": "robust-month",
   "metadata": {
    "scrolled": true
   },
   "outputs": [
    {
     "name": "stdout",
     "output_type": "stream",
     "text": [
      "[INFO] quantifying faces...\n",
      "[INFO] processing image 1/218\n",
      "[INFO] processing image 2/218\n",
      "[INFO] processing image 3/218\n",
      "[INFO] processing image 4/218\n",
      "[INFO] processing image 5/218\n",
      "[INFO] processing image 6/218\n",
      "[INFO] processing image 7/218\n",
      "[INFO] processing image 8/218\n",
      "[INFO] processing image 9/218\n",
      "[INFO] processing image 10/218\n",
      "[INFO] processing image 11/218\n",
      "[INFO] processing image 12/218\n",
      "[INFO] processing image 13/218\n",
      "[INFO] processing image 14/218\n",
      "[INFO] processing image 15/218\n",
      "[INFO] processing image 16/218\n",
      "[INFO] processing image 17/218\n",
      "[INFO] processing image 18/218\n",
      "[INFO] processing image 19/218\n",
      "[INFO] processing image 20/218\n",
      "[INFO] processing image 21/218\n",
      "[INFO] processing image 22/218\n",
      "[INFO] processing image 23/218\n",
      "[INFO] processing image 24/218\n",
      "[INFO] processing image 25/218\n",
      "[INFO] processing image 26/218\n",
      "[INFO] processing image 27/218\n",
      "[INFO] processing image 28/218\n",
      "[INFO] processing image 29/218\n",
      "[INFO] processing image 30/218\n",
      "[INFO] processing image 31/218\n",
      "[INFO] processing image 32/218\n",
      "[INFO] processing image 33/218\n",
      "[INFO] processing image 34/218\n",
      "[INFO] processing image 35/218\n",
      "[INFO] processing image 36/218\n",
      "[INFO] processing image 37/218\n",
      "[INFO] processing image 38/218\n",
      "[INFO] processing image 39/218\n",
      "[INFO] processing image 40/218\n",
      "[INFO] processing image 41/218\n",
      "[INFO] processing image 42/218\n",
      "[INFO] processing image 43/218\n",
      "[INFO] processing image 44/218\n",
      "[INFO] processing image 45/218\n",
      "[INFO] processing image 46/218\n",
      "[INFO] processing image 47/218\n",
      "[INFO] processing image 48/218\n",
      "[INFO] processing image 49/218\n",
      "[INFO] processing image 50/218\n",
      "[INFO] processing image 51/218\n",
      "[INFO] processing image 52/218\n",
      "[INFO] processing image 53/218\n",
      "[INFO] processing image 54/218\n",
      "[INFO] processing image 55/218\n",
      "[INFO] processing image 56/218\n",
      "[INFO] processing image 57/218\n",
      "[INFO] processing image 58/218\n",
      "[INFO] processing image 59/218\n",
      "[INFO] processing image 60/218\n",
      "[INFO] processing image 61/218\n",
      "[INFO] processing image 62/218\n",
      "[INFO] processing image 63/218\n",
      "[INFO] processing image 64/218\n",
      "[INFO] processing image 65/218\n",
      "[INFO] processing image 66/218\n",
      "[INFO] processing image 67/218\n",
      "[INFO] processing image 68/218\n",
      "[INFO] processing image 69/218\n",
      "[INFO] processing image 70/218\n",
      "[INFO] processing image 71/218\n",
      "[INFO] processing image 72/218\n",
      "[INFO] processing image 73/218\n",
      "[INFO] processing image 74/218\n",
      "[INFO] processing image 75/218\n",
      "[INFO] processing image 76/218\n",
      "[INFO] processing image 77/218\n",
      "[INFO] processing image 78/218\n",
      "[INFO] processing image 79/218\n",
      "[INFO] processing image 80/218\n",
      "[INFO] processing image 81/218\n",
      "[INFO] processing image 82/218\n",
      "[INFO] processing image 83/218\n",
      "[INFO] processing image 84/218\n",
      "[INFO] processing image 85/218\n",
      "[INFO] processing image 86/218\n",
      "[INFO] processing image 87/218\n",
      "[INFO] processing image 88/218\n",
      "[INFO] processing image 89/218\n",
      "[INFO] processing image 90/218\n",
      "[INFO] processing image 91/218\n",
      "[INFO] processing image 92/218\n",
      "[INFO] processing image 93/218\n",
      "[INFO] processing image 94/218\n",
      "[INFO] processing image 95/218\n",
      "[INFO] processing image 96/218\n",
      "[INFO] processing image 97/218\n",
      "[INFO] processing image 98/218\n",
      "[INFO] processing image 99/218\n",
      "[INFO] processing image 100/218\n",
      "[INFO] processing image 101/218\n",
      "[INFO] processing image 102/218\n",
      "[INFO] processing image 103/218\n",
      "[INFO] processing image 104/218\n",
      "[INFO] processing image 105/218\n",
      "[INFO] processing image 106/218\n",
      "[INFO] processing image 107/218\n",
      "[INFO] processing image 108/218\n",
      "[INFO] processing image 109/218\n",
      "[INFO] processing image 110/218\n",
      "[INFO] processing image 111/218\n",
      "[INFO] processing image 112/218\n",
      "[INFO] processing image 113/218\n",
      "[INFO] processing image 114/218\n",
      "[INFO] processing image 115/218\n",
      "[INFO] processing image 116/218\n",
      "[INFO] processing image 117/218\n",
      "[INFO] processing image 118/218\n",
      "[INFO] processing image 119/218\n",
      "[INFO] processing image 120/218\n",
      "[INFO] processing image 121/218\n",
      "[INFO] processing image 122/218\n",
      "[INFO] processing image 123/218\n",
      "[INFO] processing image 124/218\n",
      "[INFO] processing image 125/218\n",
      "[INFO] processing image 126/218\n",
      "[INFO] processing image 127/218\n",
      "[INFO] processing image 128/218\n",
      "[INFO] processing image 129/218\n",
      "[INFO] processing image 130/218\n",
      "[INFO] processing image 131/218\n",
      "[INFO] processing image 132/218\n",
      "[INFO] processing image 133/218\n",
      "[INFO] processing image 134/218\n",
      "[INFO] processing image 135/218\n",
      "[INFO] processing image 136/218\n",
      "[INFO] processing image 137/218\n",
      "[INFO] processing image 138/218\n",
      "[INFO] processing image 139/218\n",
      "[INFO] processing image 140/218\n",
      "[INFO] processing image 141/218\n",
      "[INFO] processing image 142/218\n",
      "[INFO] processing image 143/218\n",
      "[INFO] processing image 144/218\n",
      "[INFO] processing image 145/218\n",
      "[INFO] processing image 146/218\n",
      "[INFO] processing image 147/218\n",
      "[INFO] processing image 148/218\n",
      "[INFO] processing image 149/218\n",
      "[INFO] processing image 150/218\n",
      "[INFO] processing image 151/218\n",
      "[INFO] processing image 152/218\n",
      "[INFO] processing image 153/218\n",
      "[INFO] processing image 154/218\n",
      "[INFO] processing image 155/218\n",
      "[INFO] processing image 156/218\n",
      "[INFO] processing image 157/218\n",
      "[INFO] processing image 158/218\n",
      "[INFO] processing image 159/218\n",
      "[INFO] processing image 160/218\n",
      "[INFO] processing image 161/218\n",
      "[INFO] processing image 162/218\n",
      "[INFO] processing image 163/218\n",
      "[INFO] processing image 164/218\n",
      "[INFO] processing image 165/218\n",
      "[INFO] processing image 166/218\n",
      "[INFO] processing image 167/218\n",
      "[INFO] processing image 168/218\n",
      "[INFO] processing image 169/218\n",
      "[INFO] processing image 170/218\n",
      "[INFO] processing image 171/218\n",
      "[INFO] processing image 172/218\n",
      "[INFO] processing image 173/218\n",
      "[INFO] processing image 174/218\n",
      "[INFO] processing image 175/218\n",
      "[INFO] processing image 176/218\n",
      "[INFO] processing image 177/218\n",
      "[INFO] processing image 178/218\n",
      "[INFO] processing image 179/218\n",
      "[INFO] processing image 180/218\n",
      "[INFO] processing image 181/218\n",
      "[INFO] processing image 182/218\n",
      "[INFO] processing image 183/218\n",
      "[INFO] processing image 184/218\n",
      "[INFO] processing image 185/218\n",
      "[INFO] processing image 186/218\n",
      "[INFO] processing image 187/218\n",
      "[INFO] processing image 188/218\n",
      "[INFO] processing image 189/218\n",
      "[INFO] processing image 190/218\n",
      "[INFO] processing image 191/218\n",
      "[INFO] processing image 192/218\n",
      "[INFO] processing image 193/218\n",
      "[INFO] processing image 194/218\n",
      "[INFO] processing image 195/218\n",
      "[INFO] processing image 196/218\n",
      "[INFO] processing image 197/218\n",
      "[INFO] processing image 198/218\n",
      "[INFO] processing image 199/218\n",
      "[INFO] processing image 200/218\n",
      "[INFO] processing image 201/218\n",
      "[INFO] processing image 202/218\n",
      "[INFO] processing image 203/218\n",
      "[INFO] processing image 204/218\n",
      "[INFO] processing image 205/218\n",
      "[INFO] processing image 206/218\n",
      "[INFO] processing image 207/218\n",
      "[INFO] processing image 208/218\n",
      "[INFO] processing image 209/218\n",
      "[INFO] processing image 210/218\n",
      "[INFO] processing image 211/218\n",
      "[INFO] processing image 212/218\n",
      "[INFO] processing image 213/218\n",
      "[INFO] processing image 214/218\n",
      "[INFO] processing image 215/218\n",
      "[INFO] processing image 216/218\n",
      "[INFO] processing image 217/218\n",
      "[INFO] processing image 218/218\n",
      "[INFO] serializing encodings...\n"
     ]
    }
   ],
   "source": [
    "!python encode_faces.py --dataset dataset --encodings encodings.pickle"
   ]
  },
  {
   "cell_type": "code",
   "execution_count": 4,
   "id": "maritime-school",
   "metadata": {},
   "outputs": [
    {
     "name": "stdout",
     "output_type": "stream",
     "text": [
      "-rw-r--r-- 1 jupyter-kseniya jupyter-kseniya 235K May 26 11:29 encodings.pickle\r\n"
     ]
    }
   ],
   "source": [
    "ls -lh encodings*"
   ]
  },
  {
   "cell_type": "markdown",
   "id": "residential-ozone",
   "metadata": {},
   "source": [
    "### Recognizing faces in images "
   ]
  },
  {
   "cell_type": "markdown",
   "id": "promising-salvation",
   "metadata": {},
   "source": [
    "Обязательные параметры для вызова скрипта:\n",
    "\n",
    "--encodings - кодировки лиц, которые были получены на предыдущем шаге\n",
    "\n",
    "--image - путь входного изображения"
   ]
  },
  {
   "cell_type": "code",
   "execution_count": 5,
   "id": "otherwise-sympathy",
   "metadata": {},
   "outputs": [
    {
     "name": "stdout",
     "output_type": "stream",
     "text": [
      "[INFO] loading encodings...\n",
      "[INFO] recognizing faces...\n",
      "ellie_sattler\n",
      "ian_malcolm\n",
      "alan_grant\n"
     ]
    }
   ],
   "source": [
    "!python recognize_faces_image.py --encodings encodings.pickle --image examples/example_03.png"
   ]
  },
  {
   "cell_type": "markdown",
   "id": "historic-citation",
   "metadata": {},
   "source": [
    "### Recognizing faces in videos"
   ]
  },
  {
   "cell_type": "markdown",
   "id": "freelance-attendance",
   "metadata": {},
   "source": [
    "Обязательные параметры для вызова скрипта:\n",
    "\n",
    "--encodings - кодировки лиц, которые были получены на предыдущем шаге\n",
    "\n",
    "--input - путь входного видео\n",
    "\n",
    "--output - путь выходного видео\n",
    "\n",
    "--display - отображать на экране или нет\n",
    "\n",
    "--txtfile - название текстового файла для записи информации\n"
   ]
  },
  {
   "cell_type": "code",
   "execution_count": 6,
   "id": "painted-liverpool",
   "metadata": {},
   "outputs": [
    {
     "name": "stdout",
     "output_type": "stream",
     "text": [
      "[INFO] loading encodings...\n",
      "[INFO] processing video...\n",
      "Start\n",
      "End\n"
     ]
    }
   ],
   "source": [
    "!python recognize_faces_video_file.py --encodings encodings.pickle --input videos/lunch_scene.mp4 --output output/lunch_scene_output.avi --display 0 --txtfile lunch_scene_txt"
   ]
  },
  {
   "cell_type": "markdown",
   "id": "satisfactory-pregnancy",
   "metadata": {},
   "source": [
    "Посмотрим, что получилось, достав данные распознавания из текстового файла"
   ]
  },
  {
   "cell_type": "code",
   "execution_count": 7,
   "id": "herbal-denmark",
   "metadata": {},
   "outputs": [],
   "source": [
    "import pandas as pd"
   ]
  },
  {
   "cell_type": "code",
   "execution_count": 8,
   "id": "continuing-malaysia",
   "metadata": {},
   "outputs": [],
   "source": [
    "actors = pd.read_csv('output/lunch_scene_txt.txt', sep = ';', header = None)"
   ]
  },
  {
   "cell_type": "code",
   "execution_count": 9,
   "id": "animal-communist",
   "metadata": {},
   "outputs": [],
   "source": [
    "actors = actors.rename(columns={0: 'second_of_video', 1: 'left', 2: 'top', 3: 'right', 4: 'bottom', 5: 'name'})"
   ]
  },
  {
   "cell_type": "code",
   "execution_count": 10,
   "id": "outer-variable",
   "metadata": {},
   "outputs": [
    {
     "data": {
      "text/html": [
       "<div>\n",
       "<style scoped>\n",
       "    .dataframe tbody tr th:only-of-type {\n",
       "        vertical-align: middle;\n",
       "    }\n",
       "\n",
       "    .dataframe tbody tr th {\n",
       "        vertical-align: top;\n",
       "    }\n",
       "\n",
       "    .dataframe thead th {\n",
       "        text-align: right;\n",
       "    }\n",
       "</style>\n",
       "<table border=\"1\" class=\"dataframe\">\n",
       "  <thead>\n",
       "    <tr style=\"text-align: right;\">\n",
       "      <th></th>\n",
       "      <th>second_of_video</th>\n",
       "      <th>left</th>\n",
       "      <th>top</th>\n",
       "      <th>right</th>\n",
       "      <th>bottom</th>\n",
       "      <th>name</th>\n",
       "    </tr>\n",
       "  </thead>\n",
       "  <tbody>\n",
       "    <tr>\n",
       "      <th>0</th>\n",
       "      <td>5.630625</td>\n",
       "      <td>243</td>\n",
       "      <td>0</td>\n",
       "      <td>363</td>\n",
       "      <td>81</td>\n",
       "      <td>ellie_sattler</td>\n",
       "    </tr>\n",
       "    <tr>\n",
       "      <th>1</th>\n",
       "      <td>5.672333</td>\n",
       "      <td>255</td>\n",
       "      <td>0</td>\n",
       "      <td>376</td>\n",
       "      <td>93</td>\n",
       "      <td>ellie_sattler</td>\n",
       "    </tr>\n",
       "    <tr>\n",
       "      <th>2</th>\n",
       "      <td>5.714042</td>\n",
       "      <td>255</td>\n",
       "      <td>0</td>\n",
       "      <td>376</td>\n",
       "      <td>93</td>\n",
       "      <td>ellie_sattler</td>\n",
       "    </tr>\n",
       "    <tr>\n",
       "      <th>3</th>\n",
       "      <td>5.755750</td>\n",
       "      <td>255</td>\n",
       "      <td>0</td>\n",
       "      <td>376</td>\n",
       "      <td>93</td>\n",
       "      <td>ellie_sattler</td>\n",
       "    </tr>\n",
       "    <tr>\n",
       "      <th>4</th>\n",
       "      <td>5.797458</td>\n",
       "      <td>255</td>\n",
       "      <td>0</td>\n",
       "      <td>376</td>\n",
       "      <td>105</td>\n",
       "      <td>ellie_sattler</td>\n",
       "    </tr>\n",
       "    <tr>\n",
       "      <th>...</th>\n",
       "      <td>...</td>\n",
       "      <td>...</td>\n",
       "      <td>...</td>\n",
       "      <td>...</td>\n",
       "      <td>...</td>\n",
       "      <td>...</td>\n",
       "    </tr>\n",
       "    <tr>\n",
       "      <th>5778</th>\n",
       "      <td>235.109875</td>\n",
       "      <td>406</td>\n",
       "      <td>74</td>\n",
       "      <td>476</td>\n",
       "      <td>144</td>\n",
       "      <td>john_hammond</td>\n",
       "    </tr>\n",
       "    <tr>\n",
       "      <th>5779</th>\n",
       "      <td>235.151583</td>\n",
       "      <td>399</td>\n",
       "      <td>74</td>\n",
       "      <td>469</td>\n",
       "      <td>144</td>\n",
       "      <td>john_hammond</td>\n",
       "    </tr>\n",
       "    <tr>\n",
       "      <th>5780</th>\n",
       "      <td>235.193292</td>\n",
       "      <td>399</td>\n",
       "      <td>74</td>\n",
       "      <td>469</td>\n",
       "      <td>144</td>\n",
       "      <td>john_hammond</td>\n",
       "    </tr>\n",
       "    <tr>\n",
       "      <th>5781</th>\n",
       "      <td>235.235000</td>\n",
       "      <td>399</td>\n",
       "      <td>74</td>\n",
       "      <td>469</td>\n",
       "      <td>144</td>\n",
       "      <td>john_hammond</td>\n",
       "    </tr>\n",
       "    <tr>\n",
       "      <th>5782</th>\n",
       "      <td>235.276708</td>\n",
       "      <td>399</td>\n",
       "      <td>74</td>\n",
       "      <td>469</td>\n",
       "      <td>144</td>\n",
       "      <td>john_hammond</td>\n",
       "    </tr>\n",
       "  </tbody>\n",
       "</table>\n",
       "<p>5783 rows × 6 columns</p>\n",
       "</div>"
      ],
      "text/plain": [
       "      second_of_video  left  top  right  bottom           name\n",
       "0            5.630625   243    0    363      81  ellie_sattler\n",
       "1            5.672333   255    0    376      93  ellie_sattler\n",
       "2            5.714042   255    0    376      93  ellie_sattler\n",
       "3            5.755750   255    0    376      93  ellie_sattler\n",
       "4            5.797458   255    0    376     105  ellie_sattler\n",
       "...               ...   ...  ...    ...     ...            ...\n",
       "5778       235.109875   406   74    476     144   john_hammond\n",
       "5779       235.151583   399   74    469     144   john_hammond\n",
       "5780       235.193292   399   74    469     144   john_hammond\n",
       "5781       235.235000   399   74    469     144   john_hammond\n",
       "5782       235.276708   399   74    469     144   john_hammond\n",
       "\n",
       "[5783 rows x 6 columns]"
      ]
     },
     "execution_count": 10,
     "metadata": {},
     "output_type": "execute_result"
    }
   ],
   "source": [
    "actors"
   ]
  },
  {
   "cell_type": "code",
   "execution_count": 12,
   "id": "absolute-seventh",
   "metadata": {},
   "outputs": [
    {
     "data": {
      "text/plain": [
       "ian_malcolm       2048\n",
       "john_hammond      1599\n",
       "alan_grant        1027\n",
       "Unknown            836\n",
       "ellie_sattler      243\n",
       "claire_dearing      16\n",
       "owen_grady          14\n",
       "Name: name, dtype: int64"
      ]
     },
     "execution_count": 12,
     "metadata": {},
     "output_type": "execute_result"
    }
   ],
   "source": [
    "actors.name.value_counts()"
   ]
  }
 ],
 "metadata": {
  "kernelspec": {
   "display_name": "Python 3",
   "language": "python",
   "name": "python3"
  },
  "language_info": {
   "codemirror_mode": {
    "name": "ipython",
    "version": 3
   },
   "file_extension": ".py",
   "mimetype": "text/x-python",
   "name": "python",
   "nbconvert_exporter": "python",
   "pygments_lexer": "ipython3",
   "version": "3.7.3"
  }
 },
 "nbformat": 4,
 "nbformat_minor": 5
}
